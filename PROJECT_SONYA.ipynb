{
 "cells": [
  {
   "cell_type": "code",
   "execution_count": null,
   "metadata": {
    "collapsed": true
   },
   "outputs": [],
   "source": [
    "### ТЕКСТЫ В 1 ФАЙЛ"
   ]
  },
  {
   "cell_type": "code",
   "execution_count": 16,
   "metadata": {},
   "outputs": [
    {
     "name": "stdout",
     "output_type": "stream",
     "text": [
      "19034\n"
     ]
    },
    {
     "data": {
      "text/plain": [
       "25708047"
      ]
     },
     "execution_count": 16,
     "metadata": {},
     "output_type": "execute_result"
    }
   ],
   "source": [
    "import re\n",
    "\n",
    "f1 = open('SentiRuEval_rest_train.xml', 'r', encoding = 'utf-8')\n",
    "f2 = open('corpus.txt', 'w', encoding = 'utf-8')\n",
    "texts = f1.read()\n",
    "\n",
    "\n",
    "text_tag = '<text>.*?</text>'\n",
    "\n",
    "text_res = re.findall(text_tag, texts) # для обучения\n",
    "print(len(text_res))\n",
    "\n",
    "    \n",
    "import nltk.data\n",
    "from nltk import tokenize\n",
    "\n",
    "tokenizer = nltk.data.load('tokenizers/punkt/english.pickle')\n",
    "\n",
    "all_texts = ''\n",
    "\n",
    "for t in text_res:\n",
    "    \n",
    "    t = t.replace('</text>', '')\n",
    "    t = t.replace('<text>', '')\n",
    "    \n",
    "    sentenceEnders = re.compile('[.!?]')\n",
    "    sentenceList = sentenceEnders.split(t)\n",
    "    \n",
    "    for sent in sentenceList:\n",
    "        \n",
    "        if sent is not None:\n",
    "            all_texts += sent\n",
    "            all_texts += '\\n'\n",
    "\n",
    "while '\\n\\n' in all_texts:\n",
    "    all_texts = all_texts.replace('\\n\\n', '\\n')            \n",
    "\n",
    "\n",
    "# REMOVE PUNCTUATION\n",
    "import string\n",
    "\n",
    "all_texts = re.sub(r'[^\\w\\s]','', all_texts)\n",
    "\n",
    "# MYSTEM LEMMATIZE \n",
    "new_string = ''\n",
    "\n",
    "from pymystem3 import Mystem\n",
    "m = Mystem()\n",
    "#all_texts = m.lemmatize(all_texts)\n",
    "\n",
    "all_texts = all_texts.split('\\n')\n",
    "\n",
    "for line in all_texts:\n",
    "    new_line = m.lemmatize(line)\n",
    "    new_line = ' '.join(new_line)\n",
    "    \n",
    "    new_string += new_line\n",
    "    new_string += '\\n'\n",
    "    \n",
    "\n",
    "\n",
    "f2.write(new_string)\n",
    "\n",
    "#rev_tag = '<review .*?</review>'\n",
    "#rev_res = re.findall(rev_tag, texts)\n",
    "#print(len(rev_res))"
   ]
  },
  {
   "cell_type": "code",
   "execution_count": 18,
   "metadata": {},
   "outputs": [
    {
     "data": {
      "text/plain": [
       "19455659"
      ]
     },
     "execution_count": 18,
     "metadata": {},
     "output_type": "execute_result"
    }
   ],
   "source": [
    "# На вход модели даем текстовый файл, каждое предложение на отдельной строчке.\n",
    "\n",
    "# ??? !!! capslock\n",
    "import bs4\n",
    "\n",
    "#f2.write(text_lines)\n",
    "\n",
    "f2 = open('corpus.txt', 'w', encoding = 'utf-8')\n",
    "\n",
    "while '  ' in new_string:\n",
    "    new_string = new_string.replace('  ', ' ') \n",
    "\n",
    "    \n",
    "while '\\n\\n' in new_string:\n",
    "    new_string = new_string.replace('\\n\\n', '\\n')\n",
    "    \n",
    "while '\\n ' in new_string:\n",
    "    new_string = new_string.replace('\\n ', '\\n')\n",
    "    \n",
    "f2.write(new_string)\n",
    "    "
   ]
  },
  {
   "cell_type": "code",
   "execution_count": null,
   "metadata": {
    "collapsed": true
   },
   "outputs": [],
   "source": [
    "# 3 lists of words for food/service/interior\n",
    "# находить предложения с ними\n",
    "# находить слова Светы\n",
    "\n",
    "# определять оценку слова"
   ]
  }
 ],
 "metadata": {
  "kernelspec": {
   "display_name": "Python 3",
   "language": "python",
   "name": "python3"
  },
  "language_info": {
   "codemirror_mode": {
    "name": "ipython",
    "version": 3
   },
   "file_extension": ".py",
   "mimetype": "text/x-python",
   "name": "python",
   "nbconvert_exporter": "python",
   "pygments_lexer": "ipython3",
   "version": "3.6.1"
  }
 },
 "nbformat": 4,
 "nbformat_minor": 2
}
