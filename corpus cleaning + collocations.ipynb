{
 "cells": [
  {
   "cell_type": "markdown",
   "metadata": {
    "collapsed": true
   },
   "source": [
    "### ТЕКСТЫ В 1 ФАЙЛ"
   ]
  },
  {
   "cell_type": "code",
   "execution_count": 16,
   "metadata": {},
   "outputs": [
    {
     "name": "stdout",
     "output_type": "stream",
     "text": [
      "19034\n"
     ]
    },
    {
     "data": {
      "text/plain": [
       "25708047"
      ]
     },
     "execution_count": 16,
     "metadata": {},
     "output_type": "execute_result"
    }
   ],
   "source": [
    "import re\n",
    "\n",
    "f1 = open('SentiRuEval_rest_train.xml', 'r', encoding = 'utf-8')\n",
    "f2 = open('corpus.txt', 'w', encoding = 'utf-8')\n",
    "texts = f1.read()\n",
    "\n",
    "\n",
    "text_tag = '<text>.*?</text>'\n",
    "\n",
    "text_res = re.findall(text_tag, texts) # для обучения\n",
    "print(len(text_res))\n",
    "\n",
    "    \n",
    "import nltk.data\n",
    "from nltk import tokenize\n",
    "\n",
    "tokenizer = nltk.data.load('tokenizers/punkt/english.pickle')\n",
    "\n",
    "all_texts = ''\n",
    "\n",
    "for t in text_res:\n",
    "    \n",
    "    t = t.replace('</text>', '')\n",
    "    t = t.replace('<text>', '')\n",
    "    \n",
    "    sentenceEnders = re.compile('[.!?]')\n",
    "    sentenceList = sentenceEnders.split(t)\n",
    "    \n",
    "    for sent in sentenceList:\n",
    "        \n",
    "        if sent is not None:\n",
    "            all_texts += sent\n",
    "            all_texts += '\\n'\n",
    "\n",
    "while '\\n\\n' in all_texts:\n",
    "    all_texts = all_texts.replace('\\n\\n', '\\n')            \n",
    "\n",
    "\n",
    "# REMOVE PUNCTUATION\n",
    "import string\n",
    "\n",
    "all_texts = re.sub(r'[^\\w\\s]','', all_texts)\n",
    "\n",
    "# MYSTEM LEMMATIZE \n",
    "new_string = ''\n",
    "\n",
    "from pymystem3 import Mystem\n",
    "m = Mystem()\n",
    "#all_texts = m.lemmatize(all_texts)\n",
    "\n",
    "all_texts = all_texts.split('\\n')\n",
    "\n",
    "for line in all_texts:\n",
    "    new_line = m.lemmatize(line)\n",
    "    new_line = ' '.join(new_line)\n",
    "    \n",
    "    new_string += new_line\n",
    "    new_string += '\\n'\n",
    "    \n",
    "\n",
    "\n",
    "f2.write(new_string)\n",
    "\n",
    "#rev_tag = '<review .*?</review>'\n",
    "#rev_res = re.findall(rev_tag, texts)\n",
    "#print(len(rev_res))"
   ]
  },
  {
   "cell_type": "code",
   "execution_count": 23,
   "metadata": {},
   "outputs": [
    {
     "data": {
      "text/plain": [
       "19193323"
      ]
     },
     "execution_count": 23,
     "metadata": {},
     "output_type": "execute_result"
    }
   ],
   "source": [
    "# На вход модели даем текстовый файл, каждое предложение на отдельной строчке.\n",
    "\n",
    "# ??? !!! capslock\n",
    "import bs4\n",
    "\n",
    "#f2.write(text_lines)\n",
    "\n",
    "#f2 = open('corpus.txt', 'w', encoding = 'utf-8')\n",
    "\n",
    "while 'quot' in new_string:\n",
    "    new_string = new_string.replace('quot', '')\n",
    "\n",
    "num = ['0', '1', '2', '3', '4', '5', '6', '7', '8', '9']\n",
    "\n",
    "for n in num:\n",
    "    while n in new_string:\n",
    "        new_string = new_string.replace(n, '')\n",
    "    \n",
    "while '\\n\\n' in new_string:\n",
    "    new_string = new_string.replace('\\n\\n', '\\n')\n",
    "    \n",
    "while '\\n ' in new_string:\n",
    "    new_string = new_string.replace('\\n ', '\\n')\n",
    "    \n",
    "while '  ' in new_string:\n",
    "    new_string = new_string.replace('  ', ' ') \n",
    "\n",
    "f2.write(new_string)\n"
   ]
  },
  {
   "cell_type": "code",
   "execution_count": null,
   "metadata": {
    "collapsed": true
   },
   "outputs": [],
   "source": [
    "# 3 lists of words for food/service/interior\n",
    "# находить предложения с ними\n",
    "# находить слова Светы\n",
    "\n",
    "# определять оценку слова"
   ]
  },
  {
   "cell_type": "markdown",
   "metadata": {},
   "source": [
    "### Collocations"
   ]
  },
  {
   "cell_type": "code",
   "execution_count": 1,
   "metadata": {
    "collapsed": true
   },
   "outputs": [],
   "source": [
    "import nltk\n",
    "from nltk.collocations import *\n",
    "import pymorphy2"
   ]
  },
  {
   "cell_type": "code",
   "execution_count": 2,
   "metadata": {
    "collapsed": true
   },
   "outputs": [],
   "source": [
    "bigram_measures = nltk.collocations.BigramAssocMeasures()\n",
    "trigram_measures = nltk.collocations.TrigramAssocMeasures()\n",
    "\n",
    "morph = pymorphy2.MorphAnalyzer()\n",
    "punct = '.,!?():;'"
   ]
  },
  {
   "cell_type": "code",
   "execution_count": 7,
   "metadata": {},
   "outputs": [
    {
     "data": {
      "text/plain": [
       "[('то', 'что'),\n",
       " ('в', 'этот'),\n",
       " ('в', 'общий'),\n",
       " ('в', 'ресторан'),\n",
       " ('сказать', 'что'),\n",
       " ('очень', 'понравиться'),\n",
       " ('этот', 'ресторан'),\n",
       " ('не', 'быть'),\n",
       " ('так', 'как'),\n",
       " ('не', 'мочь'),\n",
       " ('я', 'не'),\n",
       " ('не', 'знать'),\n",
       " ('у', 'мы'),\n",
       " ('а', 'вот'),\n",
       " ('в', 'целое'),\n",
       " ('один', 'из'),\n",
       " ('так', 'что'),\n",
       " ('на', 'стол'),\n",
       " ('в', 'меню'),\n",
       " ('да', 'и'),\n",
       " ('потому', 'что'),\n",
       " ('очень', 'вкусный'),\n",
       " ('т', 'к'),\n",
       " ('у', 'я'),\n",
       " ('на', 'мой'),\n",
       " ('очень', 'вкусно'),\n",
       " ('в', 'зал'),\n",
       " ('этот', 'заведение'),\n",
       " ('в', 'итог'),\n",
       " ('салат', 'с')]"
      ]
     },
     "execution_count": 7,
     "metadata": {},
     "output_type": "execute_result"
    }
   ],
   "source": [
    "import re\n",
    "\n",
    "f2 = open('corpus.txt', 'r', encoding = 'utf-8')\n",
    "text = f2.read()\n",
    "\n",
    "text = text.replace('\\n', ' ')\n",
    "while '  ' in text:\n",
    "    text = text.replace('  ', ' ')\n",
    "\n",
    "words = text.split(' ')\n",
    "\n",
    "finder = BigramCollocationFinder.from_words(words)\n",
    "\n",
    "finder.apply_freq_filter(3)\n",
    "finder.nbest(bigram_measures.pmi, 30)"
   ]
  },
  {
   "cell_type": "code",
   "execution_count": 13,
   "metadata": {},
   "outputs": [],
   "source": [
    "f2 = open('stop-words-russian.txt', 'r', encoding = 'utf-8')\n",
    "stopwords = f2.read()\n",
    "while '\\n' in stopwords:\n",
    "    stopwords = stopwords.replace('\\n', ' ')\n",
    "\n",
    "while '  ' in stopwords:\n",
    "    stopwords = stopwords.replace('  ', ' ')    \n"
   ]
  },
  {
   "cell_type": "code",
   "execution_count": 34,
   "metadata": {},
   "outputs": [],
   "source": [
    "finder = BigramCollocationFinder.from_words(words)\n"
   ]
  },
  {
   "cell_type": "code",
   "execution_count": 35,
   "metadata": {},
   "outputs": [
    {
     "data": {
      "text/plain": [
       "[('данный', 'заведение'),\n",
       " ('барный', 'стойка'),\n",
       " ('живой', 'музыка'),\n",
       " ('оставаться', 'довольный'),\n",
       " ('высокий', 'уровень'),\n",
       " ('принимать', 'заказ'),\n",
       " ('обращать', 'внимание'),\n",
       " ('приятно', 'удивлять'),\n",
       " ('винный', 'карта'),\n",
       " ('белый', 'гриб'),\n",
       " ('горячий', 'блюдо'),\n",
       " ('приносить', 'меню'),\n",
       " ('детский', 'комната'),\n",
       " ('самый', 'дело'),\n",
       " ('хороший', 'место'),\n",
       " ('отличный', 'место'),\n",
       " ('соседний', 'столик'),\n",
       " ('сделать', 'заказ'),\n",
       " ('общий', 'впечатление'),\n",
       " ('ничто', 'особенный'),\n",
       " ('честно', 'говорить'),\n",
       " ('порция', 'большой'),\n",
       " ('самый', 'хороший'),\n",
       " ('крайний', 'мера'),\n",
       " ('самый', 'вкусный'),\n",
       " ('большой', 'порция'),\n",
       " ('самый', 'главное'),\n",
       " ('заказывать', 'столик'),\n",
       " ('большой', 'количество'),\n",
       " ('обслуживающий', 'персонал'),\n",
       " ('большой', 'компания'),\n",
       " ('центр', 'город'),\n",
       " ('выбор', 'блюдо'),\n",
       " ('приятный', 'впечатление'),\n",
       " ('всякий', 'похвала'),\n",
       " ('обязательно', 'прийти'),\n",
       " ('приходиться', 'ждать'),\n",
       " ('свой', 'дело'),\n",
       " ('приносить', 'быстро'),\n",
       " ('итальянский', 'кухня'),\n",
       " ('хлебный', 'корзина'),\n",
       " ('отмечать', 'свадьба'),\n",
       " ('основной', 'блюдо'),\n",
       " ('заказывать', 'салат'),\n",
       " ('японский', 'кухня'),\n",
       " ('лист', 'салат'),\n",
       " ('данный', 'ресторан'),\n",
       " ('соседний', 'стол'),\n",
       " ('приятный', 'атмосфера'),\n",
       " ('ждать', 'минута'),\n",
       " ('салат', 'цезарь'),\n",
       " ('высоко', 'всякий'),\n",
       " ('оставлять', 'желать'),\n",
       " ('подача', 'блюдо'),\n",
       " ('милый', 'девушка'),\n",
       " ('оливковый', 'масло'),\n",
       " ('единственный', 'минус'),\n",
       " ('посещать', 'ресторан'),\n",
       " ('зеленый', 'чай'),\n",
       " ('желать', 'хороший'),\n",
       " ('грязный', 'посуда'),\n",
       " ('бокал', 'вино'),\n",
       " ('верхний', 'одежда'),\n",
       " ('хороший', 'обслуживание'),\n",
       " ('томатный', 'суп'),\n",
       " ('приятный', 'место'),\n",
       " ('хлебный', 'корзинка'),\n",
       " ('попросить', 'счет'),\n",
       " ('хороший', 'кухня'),\n",
       " ('сливочный', 'соус'),\n",
       " ('забронировать', 'столик'),\n",
       " ('горячий', 'закуска'),\n",
       " ('достаточно', 'быстро'),\n",
       " ('соевый', 'соус'),\n",
       " ('постоянный', 'клиент'),\n",
       " ('свободный', 'столик'),\n",
       " ('внешний', 'вид'),\n",
       " ('холодный', 'закуска'),\n",
       " ('решать', 'зайти'),\n",
       " ('большой', 'выбор'),\n",
       " ('выбор', 'пасть'),\n",
       " ('вкусно', 'поесть'),\n",
       " ('картофельный', 'пюре'),\n",
       " ('посещать', 'данный'),\n",
       " ('хотеться', 'отмечать'),\n",
       " ('приятный', 'интерьер'),\n",
       " ('гость', 'оставаться'),\n",
       " ('хороший', 'ресторан'),\n",
       " ('праздновать', 'свадьба'),\n",
       " ('заказ', 'принимать'),\n",
       " ('овощ', 'гриль'),\n",
       " ('утиный', 'грудка'),\n",
       " ('теплый', 'салат'),\n",
       " ('приносить', 'счет'),\n",
       " ('всякий', 'случай'),\n",
       " ('понравиться', 'интерьер'),\n",
       " ('впечатление', 'оставаться'),\n",
       " ('тыквенный', 'суп'),\n",
       " ('положительный', 'эмоция'),\n",
       " ('пятница', 'вечер')]"
      ]
     },
     "execution_count": 35,
     "metadata": {},
     "output_type": "execute_result"
    }
   ],
   "source": [
    "finder.apply_word_filter(lambda w: len(w) < 3 or w.lower() in stopwords)\n",
    "\n",
    "finder.apply_freq_filter(20)\n",
    "finder.nbest(bigram_measures.student_t, 100)"
   ]
  },
  {
   "cell_type": "code",
   "execution_count": 32,
   "metadata": {
    "collapsed": true
   },
   "outputs": [],
   "source": [
    "trigram_measures = nltk.collocations.TrigramAssocMeasures()\n",
    "finder2 = TrigramCollocationFinder.from_words(words)\n"
   ]
  },
  {
   "cell_type": "code",
   "execution_count": 33,
   "metadata": {},
   "outputs": [
    {
     "data": {
      "text/plain": [
       "[('высоко', 'всякий', 'похвала'),\n",
       " ('оставлять', 'желать', 'хороший'),\n",
       " ('посещать', 'данный', 'заведение'),\n",
       " ('выражать', 'огромный', 'благодарность'),\n",
       " ('останавливать', 'свой', 'выбор'),\n",
       " ('гость', 'оставаться', 'довольный'),\n",
       " ('играть', 'живой', 'музыка'),\n",
       " ('заказывать', 'столик', 'заранее'),\n",
       " ('профессионал', 'свой', 'дело'),\n",
       " ('оставлять', 'приятный', 'впечатление'),\n",
       " ('приносить', 'достаточно', 'быстро'),\n",
       " ('выполнять', 'свой', 'работа'),\n",
       " ('поделиться', 'свой', 'впечатление'),\n",
       " ('заказ', 'приносить', 'быстро'),\n",
       " ('быстро', 'принимать', 'заказ'),\n",
       " ('оставлять', 'свой', 'отзыв'),\n",
       " ('столик', 'заказывать', 'заранее'),\n",
       " ('посещать', 'данный', 'ресторан'),\n",
       " ('соотношение', 'цена', 'качество'),\n",
       " ('посещение', 'данный', 'заведение'),\n",
       " ('снимать', 'верхний', 'одежда'),\n",
       " ('убирать', 'грязный', 'посуда'),\n",
       " ('приходиться', 'ждать', 'минута'),\n",
       " ('знать', 'свой', 'дело'),\n",
       " ('вкусный', 'порция', 'большой'),\n",
       " ('заказ', 'принимать', 'быстро'),\n",
       " ('приятно', 'проводить', 'вечер'),\n",
       " ('самый', 'приятный', 'впечатление'),\n",
       " ('утиный', 'ножка', 'конфи'),\n",
       " ('чайник', 'зеленый', 'чай')]"
      ]
     },
     "execution_count": 33,
     "metadata": {},
     "output_type": "execute_result"
    }
   ],
   "source": [
    "finder2.apply_word_filter(lambda w: len(w) < 3 or w.lower() in stopwords)\n",
    "\n",
    "finder2.apply_freq_filter(10)\n",
    "finder2.nbest(trigram_measures.student_t, 30)"
   ]
  },
  {
   "cell_type": "code",
   "execution_count": null,
   "metadata": {
    "collapsed": true
   },
   "outputs": [],
   "source": []
  }
 ],
 "metadata": {
  "kernelspec": {
   "display_name": "Python 3",
   "language": "python",
   "name": "python3"
  },
  "language_info": {
   "codemirror_mode": {
    "name": "ipython",
    "version": 3
   },
   "file_extension": ".py",
   "mimetype": "text/x-python",
   "name": "python",
   "nbconvert_exporter": "python",
   "pygments_lexer": "ipython3",
   "version": "3.6.1"
  }
 },
 "nbformat": 4,
 "nbformat_minor": 2
}
