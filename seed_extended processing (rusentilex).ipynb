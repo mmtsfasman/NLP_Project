{
 "cells": [
  {
   "cell_type": "markdown",
   "metadata": {},
   "source": [
    "#### Corpus (not divided into reviews)"
   ]
  },
  {
   "cell_type": "code",
   "execution_count": 21,
   "metadata": {},
   "outputs": [
    {
     "name": "stdout",
     "output_type": "stream",
     "text": [
      "3248668\n"
     ]
    }
   ],
   "source": [
    "f = open('corpus.txt', 'r', encoding = 'utf-8')\n",
    "\n",
    "text = f.read().split('\\n')\n",
    "reviews = []\n",
    "for line in text:\n",
    "    words = line.split(' ')\n",
    "    for word in words:\n",
    "        reviews.append(word)\n",
    "\n",
    "print(len(reviews))\n"
   ]
  },
  {
   "cell_type": "code",
   "execution_count": 22,
   "metadata": {},
   "outputs": [
    {
     "name": "stdout",
     "output_type": "stream",
     "text": [
      "94613\n"
     ]
    }
   ],
   "source": [
    "from collections import Counter\n",
    "word_count = Counter(reviews)\n",
    "print(len(word_count))"
   ]
  },
  {
   "cell_type": "markdown",
   "metadata": {},
   "source": [
    "#### Словарь оценочных слов "
   ]
  },
  {
   "cell_type": "code",
   "execution_count": 23,
   "metadata": {
    "collapsed": true
   },
   "outputs": [],
   "source": [
    "f2 = open('rusentilex.txt', 'r', encoding = 'utf-8')\n",
    "dic = f2.read().split('\\n')\n",
    "slovar = []\n",
    "entry_names = [] # для поиска\n",
    "\n",
    "for line in dic:\n",
    "    line = line.split(',')\n",
    "    slovar.append(line)\n",
    "    entry_names.append(line[0])"
   ]
  },
  {
   "cell_type": "code",
   "execution_count": 24,
   "metadata": {},
   "outputs": [
    {
     "name": "stdout",
     "output_type": "stream",
     "text": [
      "16057\n"
     ]
    }
   ],
   "source": [
    "print(len(slovar))"
   ]
  },
  {
   "cell_type": "markdown",
   "metadata": {},
   "source": [
    "#### Seed_extended (count corpus frequency + check if it's in rusentilex)"
   ]
  },
  {
   "cell_type": "code",
   "execution_count": 25,
   "metadata": {
    "collapsed": true
   },
   "outputs": [],
   "source": [
    "import json\n",
    "f1 = open('seed_extended.json')\n",
    "json1_str = f1.read()\n",
    "seed_extend = json.loads(json1_str)\n"
   ]
  },
  {
   "cell_type": "code",
   "execution_count": 26,
   "metadata": {},
   "outputs": [
    {
     "name": "stdout",
     "output_type": "stream",
     "text": [
      "697\n"
     ]
    }
   ],
   "source": [
    "print(len(seed_extend))\n",
    "\n",
    "for k,v in seed_extend.items():\n",
    "    \n",
    "    if k in entry_names: # check if seed word is in rusentilex\n",
    "        i = 1\n",
    "    else:\n",
    "        i = 0\n",
    "    \n",
    "    #print(k, v, word_count[k], i)"
   ]
  },
  {
   "cell_type": "code",
   "execution_count": 27,
   "metadata": {
    "collapsed": true
   },
   "outputs": [],
   "source": [
    "f2 = open('param.json')\n",
    "jason2_str = f2.read()\n",
    "params = json.loads(jason2_str)"
   ]
  },
  {
   "cell_type": "code",
   "execution_count": 28,
   "metadata": {},
   "outputs": [
    {
     "name": "stdout",
     "output_type": "stream",
     "text": [
      "3\n",
      "service\n",
      "food\n",
      "interior\n"
     ]
    }
   ],
   "source": [
    "print(len(params))\n",
    "for k, v in params.items():\n",
    "    print(k)"
   ]
  },
  {
   "cell_type": "code",
   "execution_count": null,
   "metadata": {
    "collapsed": true
   },
   "outputs": [],
   "source": []
  }
 ],
 "metadata": {
  "kernelspec": {
   "display_name": "Python 3",
   "language": "python",
   "name": "python3"
  },
  "language_info": {
   "codemirror_mode": {
    "name": "ipython",
    "version": 3
   },
   "file_extension": ".py",
   "mimetype": "text/x-python",
   "name": "python",
   "nbconvert_exporter": "python",
   "pygments_lexer": "ipython3",
   "version": "3.6.1"
  }
 },
 "nbformat": 4,
 "nbformat_minor": 2
}
